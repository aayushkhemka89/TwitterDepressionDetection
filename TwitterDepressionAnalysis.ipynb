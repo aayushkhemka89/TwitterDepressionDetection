{
  "nbformat": 4,
  "nbformat_minor": 0,
  "metadata": {
    "colab": {
      "name": "TwitterDepressionAnalysis.ipynb",
      "provenance": [],
      "collapsed_sections": [],
      "authorship_tag": "ABX9TyNcqu243IACVdLuK5GD5I/0",
      "include_colab_link": true
    },
    "kernelspec": {
      "name": "python3",
      "display_name": "Python 3"
    }
  },
  "cells": [
    {
      "cell_type": "markdown",
      "metadata": {
        "id": "view-in-github",
        "colab_type": "text"
      },
      "source": [
        "<a href=\"https://colab.research.google.com/github/aayushkhemka89/TwitterDepressionDetection/blob/master/TwitterDepressionAnalysis.ipynb\" target=\"_parent\"><img src=\"https://colab.research.google.com/assets/colab-badge.svg\" alt=\"Open In Colab\"/></a>"
      ]
    },
    {
      "cell_type": "markdown",
      "metadata": {
        "id": "rFNtosrpv1_J",
        "colab_type": "text"
      },
      "source": [
        "# Get the Data\n",
        "\n",
        "Preparing to download the data"
      ]
    },
    {
      "cell_type": "markdown",
      "metadata": {
        "id": "6UPbTNEtwI9f",
        "colab_type": "text"
      },
      "source": [
        "Please follow the steps below to download and use kaggle data within Google Colab:\n",
        "\n",
        "1. Go to your account, Scroll to API section and Click **Expire API Token** to remove previous tokens\n",
        "\n",
        "2. Click on **Create New API Token** - It will download kaggle.json file on your machine.\n",
        "\n",
        "3. Go to your Google Colab project file and run the following commands:\n",
        "\n",
        "  1.   `! pip install -q kaggle`\n",
        "  2.   `from google.colab import files`\n",
        "  3.   `files.upload()`\n",
        "  4. Choose the kaggle.json file that you downloaded\n",
        "\n",
        "4. `! mkdir ~/.kaggle`\n",
        "\n",
        "5. `! cp kaggle.json ~/.kaggle/`\n",
        "\n",
        "6. Make directory named kaggle and copy kaggle.json file there.\n",
        "\n",
        "7. `! chmod 600 ~/.kaggle/kaggle.json`\n",
        "\n",
        "8. Change the permissions of the file.\n",
        "\n",
        "9. `! kaggle datasets list`\n",
        "\n",
        "\n",
        "-That's all ! You can check if everything's okay by running this command.\n",
        "\n",
        "**Download Data**\n",
        "\n",
        "`! kaggle dataset download -d name-of-competition`\n"
      ]
    },
    {
      "cell_type": "code",
      "metadata": {
        "id": "jBLAtrzKdBfP",
        "colab_type": "code",
        "colab": {}
      },
      "source": [
        "!pip install -q kaggle"
      ],
      "execution_count": 7,
      "outputs": []
    },
    {
      "cell_type": "code",
      "metadata": {
        "id": "reMrhY9_ddFm",
        "colab_type": "code",
        "colab": {}
      },
      "source": [
        "from google.colab import files "
      ],
      "execution_count": 4,
      "outputs": []
    },
    {
      "cell_type": "code",
      "metadata": {
        "id": "BMDJQazpdlks",
        "colab_type": "code",
        "colab": {
          "base_uri": "https://localhost:8080/",
          "height": 34
        },
        "outputId": "b11a64ab-4ae5-44be-dd13-70ba0a616c30"
      },
      "source": [
        "! mkdir ~/.kaggle"
      ],
      "execution_count": 1,
      "outputs": [
        {
          "output_type": "stream",
          "text": [
            "mkdir: cannot create directory ‘/root/.kaggle’: File exists\n"
          ],
          "name": "stdout"
        }
      ]
    },
    {
      "cell_type": "code",
      "metadata": {
        "id": "SWfPhO4DdqMl",
        "colab_type": "code",
        "colab": {}
      },
      "source": [
        "! cp kaggle.json ~/.kaggle/"
      ],
      "execution_count": 2,
      "outputs": []
    },
    {
      "cell_type": "code",
      "metadata": {
        "id": "nWpJYIHMdvAz",
        "colab_type": "code",
        "colab": {}
      },
      "source": [
        "! chmod 600 ~/.kaggle/kaggle.json"
      ],
      "execution_count": 3,
      "outputs": []
    },
    {
      "cell_type": "code",
      "metadata": {
        "id": "irI_hXXWd0pQ",
        "colab_type": "code",
        "colab": {
          "base_uri": "https://localhost:8080/",
          "height": 436
        },
        "outputId": "b71a8bfe-04de-4a4d-ca94-a825d97172f7"
      },
      "source": [
        "! kaggle datasets list"
      ],
      "execution_count": 4,
      "outputs": [
        {
          "output_type": "stream",
          "text": [
            "Warning: Looks like you're using an outdated API Version, please consider updating (server 1.5.6 / client 1.5.4)\n",
            "ref                                                               title                                             size  lastUpdated          downloadCount  \n",
            "----------------------------------------------------------------  -----------------------------------------------  -----  -------------------  -------------  \n",
            "gpreda/covid19-tweets                                             COVID19 Tweets                                    13MB  2020-08-07 15:55:25            558  \n",
            "christianlillelund/passenger-list-for-the-estonia-ferry-disaster  MS Estonia Disaster Passenger List                14KB  2020-07-26 15:40:17            131  \n",
            "Cornell-University/arxiv                                          arXiv Dataset                                      2GB  2020-05-06 23:18:35            818  \n",
            "jeffreybraun/chipotle-locations                                   Chipotle Locations                               124KB  2020-07-28 20:20:41            231  \n",
            "jeffreybraun/chopped-10-years-of-episode-data                     Chopped: 10+ Years of Episode Data               305KB  2020-07-30 15:19:41             67  \n",
            "ahsen1330/us-police-shootings                                     US Police Shootings                              126KB  2020-07-30 04:23:34            484  \n",
            "shuyangli94/this-american-life-podcast-transcriptsalignments      This American Life Podcast Dialog Transcripts     76MB  2020-08-01 20:45:13             21  \n",
            "susuwatari/ppp-loan-data-paycheck-protection-program              PPP Loan Data (Paycheck Protection Program)       26MB  2020-08-01 23:29:41            110  \n",
            "umairnasir14/impact-factor-of-top-1000-journals                   Impact factor of top 1000 journals               397KB  2020-08-03 08:25:35             64  \n",
            "vidyapb/indian-school-education-statistics                        Indian School Education Statistics                24KB  2020-07-23 17:26:11            442  \n",
            "claytonmiller/ashrae-global-thermal-comfort-database-ii           ASHRAE Global Thermal Comfort Database II          3MB  2020-07-21 02:47:43             80  \n",
            "futurecorporation/epitope-prediction                              COVID-19/SARS B-cell Epitope Prediction            1MB  2020-07-24 02:53:28            180  \n",
            "benroshan/factors-affecting-campus-placement                      Campus Recruitment                                 5KB  2020-04-11 11:09:02          13344  \n",
            "bobbyscience/league-of-legends-diamond-ranked-games-10-min        League of Legends Diamond Ranked Games (10 min)  539KB  2020-04-13 13:53:02           5305  \n",
            "divyansh22/flight-delay-prediction                                January Flight Delay Prediction                   23MB  2020-04-14 13:15:41           4467  \n",
            "clmentbisaillon/fake-and-real-news-dataset                        Fake and real news dataset                        41MB  2020-03-26 18:51:15          11328  \n",
            "ikiulian/global-hospital-beds-capacity-for-covid19                Global Hospital Beds Capacity (for covid-19)     284KB  2020-04-26 09:39:35           3836  \n",
            "praveengovi/coronahack-chest-xraydataset                          CoronaHack -Chest X-Ray-Dataset                    1GB  2020-03-20 01:26:40           5376  \n",
            "bappekim/air-pollution-in-seoul                                   Air Pollution in Seoul                            20MB  2020-04-03 16:33:49           5372  \n",
            "imdevskp/india-district-wise-shape-files                          India 2020 District Level Shape files             22MB  2020-04-10 09:03:16           1346  \n"
          ],
          "name": "stdout"
        }
      ]
    },
    {
      "cell_type": "code",
      "metadata": {
        "id": "9qftyX6gjTS8",
        "colab_type": "code",
        "colab": {
          "base_uri": "https://localhost:8080/",
          "height": 69
        },
        "outputId": "40aac9fe-07db-4c1e-fee0-e8ef988d8754"
      },
      "source": [
        "!kaggle datasets download -d ywang311/twitter-sentiment"
      ],
      "execution_count": 8,
      "outputs": [
        {
          "output_type": "stream",
          "text": [
            "Downloading twitter-sentiment.zip to /content\n",
            " 87% 49.0M/56.4M [00:00<00:00, 47.6MB/s]\n",
            "100% 56.4M/56.4M [00:00<00:00, 88.8MB/s]\n"
          ],
          "name": "stdout"
        }
      ]
    },
    {
      "cell_type": "code",
      "metadata": {
        "id": "N30PL_OMjo1H",
        "colab_type": "code",
        "colab": {
          "base_uri": "https://localhost:8080/",
          "height": 52
        },
        "outputId": "3fdbe05b-29f2-4282-fd3e-5023fe26bd98"
      },
      "source": [
        "!unzip \\*.zip"
      ],
      "execution_count": 9,
      "outputs": [
        {
          "output_type": "stream",
          "text": [
            "Archive:  twitter-sentiment.zip\n",
            "  inflating: Sentiment Analysis Dataset 2.csv  \n"
          ],
          "name": "stdout"
        }
      ]
    },
    {
      "cell_type": "code",
      "metadata": {
        "id": "7qpK8kVij4N5",
        "colab_type": "code",
        "colab": {}
      },
      "source": [
        "! pip install twint"
      ],
      "execution_count": null,
      "outputs": []
    },
    {
      "cell_type": "code",
      "metadata": {
        "id": "VuL-ewaBMvOH",
        "colab_type": "code",
        "colab": {}
      },
      "source": [
        "! twint -s depression --since '2020-05-15 00:00:00' -o depressive_tweets_processed.csv --csv"
      ],
      "execution_count": null,
      "outputs": []
    },
    {
      "cell_type": "code",
      "metadata": {
        "id": "gPY3wpjElxch",
        "colab_type": "code",
        "colab": {}
      },
      "source": [
        "import pandas as pd"
      ],
      "execution_count": 13,
      "outputs": []
    },
    {
      "cell_type": "code",
      "metadata": {
        "id": "_W-D-_vXN90V",
        "colab_type": "code",
        "colab": {
          "base_uri": "https://localhost:8080/",
          "height": 34
        },
        "outputId": "5cc0f916-daec-4287-8e3b-315956fa8051"
      },
      "source": [
        "data = pd.read_csv('depressive_tweets_processed.csv')\n",
        "data.shape"
      ],
      "execution_count": 14,
      "outputs": [
        {
          "output_type": "execute_result",
          "data": {
            "text/plain": [
              "(11066, 34)"
            ]
          },
          "metadata": {
            "tags": []
          },
          "execution_count": 14
        }
      ]
    },
    {
      "cell_type": "code",
      "metadata": {
        "id": "TGX8kRDWNIZc",
        "colab_type": "code",
        "colab": {
          "base_uri": "https://localhost:8080/",
          "height": 52
        },
        "outputId": "9bc3fd85-e324-4d71-88a7-e9bcee1f889a"
      },
      "source": [
        "!pip install ftfy"
      ],
      "execution_count": 15,
      "outputs": [
        {
          "output_type": "stream",
          "text": [
            "Requirement already satisfied: ftfy in /usr/local/lib/python3.6/dist-packages (5.8)\n",
            "Requirement already satisfied: wcwidth in /usr/local/lib/python3.6/dist-packages (from ftfy) (0.2.5)\n"
          ],
          "name": "stdout"
        }
      ]
    },
    {
      "cell_type": "code",
      "metadata": {
        "id": "7Qnb6x5JT6BR",
        "colab_type": "code",
        "colab": {
          "base_uri": "https://localhost:8080/",
          "height": 208
        },
        "outputId": "ea3f0909-bf0c-45cf-f36a-a97964f9c069"
      },
      "source": [
        "!wget -c \"https://s3.amazonaws.com/dl4j-distribution/GoogleNews-vectors-negative300.bin.gz\""
      ],
      "execution_count": 16,
      "outputs": [
        {
          "output_type": "stream",
          "text": [
            "--2020-08-08 15:02:08--  https://s3.amazonaws.com/dl4j-distribution/GoogleNews-vectors-negative300.bin.gz\n",
            "Resolving s3.amazonaws.com (s3.amazonaws.com)... 52.216.200.125\n",
            "Connecting to s3.amazonaws.com (s3.amazonaws.com)|52.216.200.125|:443... connected.\n",
            "HTTP request sent, awaiting response... 200 OK\n",
            "Length: 1647046227 (1.5G) [application/x-gzip]\n",
            "Saving to: ‘GoogleNews-vectors-negative300.bin.gz’\n",
            "\n",
            "GoogleNews-vectors- 100%[===================>]   1.53G  85.4MB/s    in 17s     \n",
            "\n",
            "2020-08-08 15:02:25 (91.5 MB/s) - ‘GoogleNews-vectors-negative300.bin.gz’ saved [1647046227/1647046227]\n",
            "\n"
          ],
          "name": "stdout"
        }
      ]
    },
    {
      "cell_type": "markdown",
      "metadata": {
        "id": "1714X_NjXfdZ",
        "colab_type": "text"
      },
      "source": [
        "# Depression Detection in Social Media Posts\n",
        "\n",
        "#### Imports"
      ]
    },
    {
      "cell_type": "code",
      "metadata": {
        "id": "4pLJfwoLUFyS",
        "colab_type": "code",
        "colab": {}
      },
      "source": [
        "import warnings\n",
        "warnings.filterwarnings(\"ignore\")\n",
        "import ftfy\n",
        "import matplotlib.pyplot as plt\n",
        "import nltk\n",
        "import numpy as np\n",
        "import pandas as pd\n",
        "import re\n",
        "\n",
        "from math import exp\n",
        "from numpy import sign\n",
        "\n",
        "from sklearn.metrics import  classification_report, confusion_matrix, accuracy_score\n",
        "from gensim.models import KeyedVectors\n",
        "from nltk.corpus import stopwords\n",
        "from nltk import PorterStemmer\n",
        "\n",
        "from keras.models import Model, Sequential\n",
        "from keras.callbacks import EarlyStopping, ModelCheckpoint\n",
        "from keras.layers import Conv1D, Dense, Input, LSTM, Embedding, Dropout, Activation, MaxPooling1D\n",
        "from keras.preprocessing.text import Tokenizer\n",
        "from keras.preprocessing.sequence import pad_sequences\n",
        "\n"
      ],
      "execution_count": 17,
      "outputs": []
    },
    {
      "cell_type": "markdown",
      "metadata": {
        "id": "C21b0hf2Xj4G",
        "colab_type": "text"
      },
      "source": [
        "#### Constants"
      ]
    },
    {
      "cell_type": "code",
      "metadata": {
        "id": "zRO0zqgMXpDt",
        "colab_type": "code",
        "colab": {}
      },
      "source": [
        "# Reproducibility\n",
        "np.random.seed(1234)\n",
        "\n",
        "DEPRES_NROWS = 6000  # number of rows to read from DEPRESSIVE_TWEETS_CSV\n",
        "RANDOM_NROWS = 10000 # number of rows to read from RANDOM_TWEETS_CSV\n",
        "MAX_SEQUENCE_LENGTH = 140 # Max tweet size\n",
        "MAX_NB_WORDS = 20000\n",
        "EMBEDDING_DIM = 300\n",
        "TRAIN_SPLIT = 0.6\n",
        "TEST_SPLIT = 0.2\n",
        "LEARNING_RATE = 0.1\n",
        "EPOCHS= 10"
      ],
      "execution_count": 18,
      "outputs": []
    },
    {
      "cell_type": "markdown",
      "metadata": {
        "id": "0uKrRuK-X0Ep",
        "colab_type": "text"
      },
      "source": [
        "## Section 1: Load Data\n",
        "\n",
        "Loading depressive tweets scraped from twitter using [TWINT](https://github.com/haccer/twint) and random tweets from Kaggle dataset [twitter_sentiment](https://www.kaggle.com/ywang311/twitter-sentiment/data).\n",
        "\n",
        "#### File Paths"
      ]
    },
    {
      "cell_type": "code",
      "metadata": {
        "id": "0T_u4BpTXvHj",
        "colab_type": "code",
        "colab": {}
      },
      "source": [
        "DEPRESSIVE_TWEETS_CSV = 'depressive_tweets_processed.csv'\n",
        "RANDOM_TWEETS_CSV = 'Sentiment Analysis Dataset 2.csv'\n",
        "EMBEDDING_FILE = 'GoogleNews-vectors-negative300.bin.gz'"
      ],
      "execution_count": 19,
      "outputs": []
    },
    {
      "cell_type": "code",
      "metadata": {
        "id": "Qhsu2nmiX-jV",
        "colab_type": "code",
        "colab": {}
      },
      "source": [
        "depressive_tweets_df = pd.read_csv(DEPRESSIVE_TWEETS_CSV, usecols = range(0,12), nrows = DEPRES_NROWS)\n",
        "random_tweets_df = pd.read_csv(RANDOM_TWEETS_CSV, encoding = \"ISO-8859-1\", usecols = range(0,4), nrows = RANDOM_NROWS)"
      ],
      "execution_count": 35,
      "outputs": []
    },
    {
      "cell_type": "code",
      "metadata": {
        "id": "K0631eldYD02",
        "colab_type": "code",
        "colab": {
          "base_uri": "https://localhost:8080/",
          "height": 504
        },
        "outputId": "8583bbfd-7dd5-40ed-cddd-85a696b49963"
      },
      "source": [
        "depressive_tweets_df.head()"
      ],
      "execution_count": 36,
      "outputs": [
        {
          "output_type": "execute_result",
          "data": {
            "text/html": [
              "<div>\n",
              "<style scoped>\n",
              "    .dataframe tbody tr th:only-of-type {\n",
              "        vertical-align: middle;\n",
              "    }\n",
              "\n",
              "    .dataframe tbody tr th {\n",
              "        vertical-align: top;\n",
              "    }\n",
              "\n",
              "    .dataframe thead th {\n",
              "        text-align: right;\n",
              "    }\n",
              "</style>\n",
              "<table border=\"1\" class=\"dataframe\">\n",
              "  <thead>\n",
              "    <tr style=\"text-align: right;\">\n",
              "      <th></th>\n",
              "      <th>id</th>\n",
              "      <th>conversation_id</th>\n",
              "      <th>created_at</th>\n",
              "      <th>date</th>\n",
              "      <th>time</th>\n",
              "      <th>timezone</th>\n",
              "      <th>user_id</th>\n",
              "      <th>username</th>\n",
              "      <th>name</th>\n",
              "      <th>place</th>\n",
              "      <th>tweet</th>\n",
              "      <th>mentions</th>\n",
              "    </tr>\n",
              "  </thead>\n",
              "  <tbody>\n",
              "    <tr>\n",
              "      <th>0</th>\n",
              "      <td>1292111809206300673</td>\n",
              "      <td>1292111807365046272</td>\n",
              "      <td>1596898436000</td>\n",
              "      <td>2020-08-08</td>\n",
              "      <td>14:53:56</td>\n",
              "      <td>UTC</td>\n",
              "      <td>1243914809004810242</td>\n",
              "      <td>swagronnn</td>\n",
              "      <td>beyuh</td>\n",
              "      <td>NaN</td>\n",
              "      <td>TAS PINAGTANGGOL KO SARILI KO KASI GALI NA GAL...</td>\n",
              "      <td>[]</td>\n",
              "    </tr>\n",
              "    <tr>\n",
              "      <th>1</th>\n",
              "      <td>1292111808795422720</td>\n",
              "      <td>1292111808795422720</td>\n",
              "      <td>1596898436000</td>\n",
              "      <td>2020-08-08</td>\n",
              "      <td>14:53:56</td>\n",
              "      <td>UTC</td>\n",
              "      <td>952728807873671168</td>\n",
              "      <td>kinkkawaiikitty</td>\n",
              "      <td>Kinky Kitty 18+</td>\n",
              "      <td>NaN</td>\n",
              "      <td>Welp! I disappeared again! Anxiety and depress...</td>\n",
              "      <td>[]</td>\n",
              "    </tr>\n",
              "    <tr>\n",
              "      <th>2</th>\n",
              "      <td>1292111802206167041</td>\n",
              "      <td>1292111802206167041</td>\n",
              "      <td>1596898434000</td>\n",
              "      <td>2020-08-08</td>\n",
              "      <td>14:53:54</td>\n",
              "      <td>UTC</td>\n",
              "      <td>3266832398</td>\n",
              "      <td>babuchairman</td>\n",
              "      <td>Sharaiz 🐺</td>\n",
              "      <td>NaN</td>\n",
              "      <td>Depression ka mareez hona aik alag baat hai mu...</td>\n",
              "      <td>[]</td>\n",
              "    </tr>\n",
              "    <tr>\n",
              "      <th>3</th>\n",
              "      <td>1292111800201355265</td>\n",
              "      <td>1292111800201355265</td>\n",
              "      <td>1596898434000</td>\n",
              "      <td>2020-08-08</td>\n",
              "      <td>14:53:54</td>\n",
              "      <td>UTC</td>\n",
              "      <td>1097839473696669696</td>\n",
              "      <td>sweetakao</td>\n",
              "      <td>☼ | MHA SPOILERS</td>\n",
              "      <td>NaN</td>\n",
              "      <td>2 ans de danse orientale\\n4 ans de taekwondo \\...</td>\n",
              "      <td>[]</td>\n",
              "    </tr>\n",
              "    <tr>\n",
              "      <th>4</th>\n",
              "      <td>1292111797542150146</td>\n",
              "      <td>1292106841460281344</td>\n",
              "      <td>1596898433000</td>\n",
              "      <td>2020-08-08</td>\n",
              "      <td>14:53:53</td>\n",
              "      <td>UTC</td>\n",
              "      <td>757291207630413824</td>\n",
              "      <td>_khylano</td>\n",
              "      <td>khy thee gemini</td>\n",
              "      <td>NaN</td>\n",
              "      <td>Depression.? Been there done that. Weight gain...</td>\n",
              "      <td>['blvckbbeauty']</td>\n",
              "    </tr>\n",
              "  </tbody>\n",
              "</table>\n",
              "</div>"
            ],
            "text/plain": [
              "                    id  ...          mentions\n",
              "0  1292111809206300673  ...                []\n",
              "1  1292111808795422720  ...                []\n",
              "2  1292111802206167041  ...                []\n",
              "3  1292111800201355265  ...                []\n",
              "4  1292111797542150146  ...  ['blvckbbeauty']\n",
              "\n",
              "[5 rows x 12 columns]"
            ]
          },
          "metadata": {
            "tags": []
          },
          "execution_count": 36
        }
      ]
    },
    {
      "cell_type": "code",
      "metadata": {
        "id": "yVaw_OrpYHk-",
        "colab_type": "code",
        "colab": {
          "base_uri": "https://localhost:8080/",
          "height": 206
        },
        "outputId": "8f2a16dc-8392-460c-a4c5-3168968f516a"
      },
      "source": [
        "random_tweets_df.head()"
      ],
      "execution_count": 22,
      "outputs": [
        {
          "output_type": "execute_result",
          "data": {
            "text/html": [
              "<div>\n",
              "<style scoped>\n",
              "    .dataframe tbody tr th:only-of-type {\n",
              "        vertical-align: middle;\n",
              "    }\n",
              "\n",
              "    .dataframe tbody tr th {\n",
              "        vertical-align: top;\n",
              "    }\n",
              "\n",
              "    .dataframe thead th {\n",
              "        text-align: right;\n",
              "    }\n",
              "</style>\n",
              "<table border=\"1\" class=\"dataframe\">\n",
              "  <thead>\n",
              "    <tr style=\"text-align: right;\">\n",
              "      <th></th>\n",
              "      <th>ï»¿ItemID</th>\n",
              "      <th>Sentiment</th>\n",
              "      <th>SentimentSource</th>\n",
              "      <th>SentimentText</th>\n",
              "    </tr>\n",
              "  </thead>\n",
              "  <tbody>\n",
              "    <tr>\n",
              "      <th>0</th>\n",
              "      <td>1</td>\n",
              "      <td>0</td>\n",
              "      <td>Sentiment140</td>\n",
              "      <td>is so sad for my APL frie...</td>\n",
              "    </tr>\n",
              "    <tr>\n",
              "      <th>1</th>\n",
              "      <td>2</td>\n",
              "      <td>0</td>\n",
              "      <td>Sentiment140</td>\n",
              "      <td>I missed the New Moon trail...</td>\n",
              "    </tr>\n",
              "    <tr>\n",
              "      <th>2</th>\n",
              "      <td>3</td>\n",
              "      <td>1</td>\n",
              "      <td>Sentiment140</td>\n",
              "      <td>omg its already 7:30 :O</td>\n",
              "    </tr>\n",
              "    <tr>\n",
              "      <th>3</th>\n",
              "      <td>4</td>\n",
              "      <td>0</td>\n",
              "      <td>Sentiment140</td>\n",
              "      <td>.. Omgaga. Im sooo  im gunna CRy. I'...</td>\n",
              "    </tr>\n",
              "    <tr>\n",
              "      <th>4</th>\n",
              "      <td>5</td>\n",
              "      <td>0</td>\n",
              "      <td>Sentiment140</td>\n",
              "      <td>i think mi bf is cheating on me!!!   ...</td>\n",
              "    </tr>\n",
              "  </tbody>\n",
              "</table>\n",
              "</div>"
            ],
            "text/plain": [
              "   ï»¿ItemID  ...                                      SentimentText\n",
              "0          1  ...                       is so sad for my APL frie...\n",
              "1          2  ...                     I missed the New Moon trail...\n",
              "2          3  ...                            omg its already 7:30 :O\n",
              "3          4  ...            .. Omgaga. Im sooo  im gunna CRy. I'...\n",
              "4          5  ...           i think mi bf is cheating on me!!!   ...\n",
              "\n",
              "[5 rows x 4 columns]"
            ]
          },
          "metadata": {
            "tags": []
          },
          "execution_count": 22
        }
      ]
    },
    {
      "cell_type": "markdown",
      "metadata": {
        "id": "UaoaC3l6Zpkq",
        "colab_type": "text"
      },
      "source": [
        "## Section 2: Data Processing\n",
        "\n",
        "### Load Pretrained Word2Vec Model\n",
        "\n",
        "The pretrained vectors for the Word2Vec model is from [here](\"https://s3.amazonaws.com/dl4j-distribution/GoogleNews-vectors-negative300.bin.gz\").\n",
        "Using a Keyed Vectors file, we can get the embedding of any word by calling `.word_vec(word)` and we can get all the words in the model's vocabulary through `.vocab`."
      ]
    },
    {
      "cell_type": "code",
      "metadata": {
        "id": "JeZ9QRjwZzWi",
        "colab_type": "code",
        "colab": {}
      },
      "source": [
        "word2vec = KeyedVectors.load_word2vec_format(EMBEDDING_FILE, binary=True)"
      ],
      "execution_count": 23,
      "outputs": []
    },
    {
      "cell_type": "markdown",
      "metadata": {
        "id": "lYLBEbuKZ_Qb",
        "colab_type": "text"
      },
      "source": [
        "### Preprocessing\n",
        "\n",
        "Preprocessing the tweets in order to:\n",
        "* Remove links and images\n",
        "* Remove hashtags\n",
        "* Remove @ mentions\n",
        "* Remove emojis\n",
        "* Remove stop words\n",
        "* Remove punctuation\n",
        "* Get rid of stuff like \"what's\" and making it \"what is'\n",
        "* Stem words so they are all the same tense (e.g. ran -> run)"
      ]
    },
    {
      "cell_type": "code",
      "metadata": {
        "id": "0E-E3CsiZ-tf",
        "colab_type": "code",
        "colab": {}
      },
      "source": [
        "# Expand Contraction\n",
        "cList = {\n",
        "  \"ain't\": \"am not\",\n",
        "  \"aren't\": \"are not\",\n",
        "  \"can't\": \"cannot\",\n",
        "  \"can't've\": \"cannot have\",\n",
        "  \"'cause\": \"because\",\n",
        "  \"could've\": \"could have\",\n",
        "  \"couldn't\": \"could not\",\n",
        "  \"couldn't've\": \"could not have\",\n",
        "  \"didn't\": \"did not\",\n",
        "  \"doesn't\": \"does not\",\n",
        "  \"don't\": \"do not\",\n",
        "  \"hadn't\": \"had not\",\n",
        "  \"hadn't've\": \"had not have\",\n",
        "  \"hasn't\": \"has not\",\n",
        "  \"haven't\": \"have not\",\n",
        "  \"he'd\": \"he would\",\n",
        "  \"he'd've\": \"he would have\",\n",
        "  \"he'll\": \"he will\",\n",
        "  \"he'll've\": \"he will have\",\n",
        "  \"he's\": \"he is\",\n",
        "  \"how'd\": \"how did\",\n",
        "  \"how'd'y\": \"how do you\",\n",
        "  \"how'll\": \"how will\",\n",
        "  \"how's\": \"how is\",\n",
        "  \"I'd\": \"I would\",\n",
        "  \"I'd've\": \"I would have\",\n",
        "  \"I'll\": \"I will\",\n",
        "  \"I'll've\": \"I will have\",\n",
        "  \"I'm\": \"I am\",\n",
        "  \"I've\": \"I have\",\n",
        "  \"isn't\": \"is not\",\n",
        "  \"it'd\": \"it had\",\n",
        "  \"it'd've\": \"it would have\",\n",
        "  \"it'll\": \"it will\",\n",
        "  \"it'll've\": \"it will have\",\n",
        "  \"it's\": \"it is\",\n",
        "  \"let's\": \"let us\",\n",
        "  \"ma'am\": \"madam\",\n",
        "  \"mayn't\": \"may not\",\n",
        "  \"might've\": \"might have\",\n",
        "  \"mightn't\": \"might not\",\n",
        "  \"mightn't've\": \"might not have\",\n",
        "  \"must've\": \"must have\",\n",
        "  \"mustn't\": \"must not\",\n",
        "  \"mustn't've\": \"must not have\",\n",
        "  \"needn't\": \"need not\",\n",
        "  \"needn't've\": \"need not have\",\n",
        "  \"o'clock\": \"of the clock\",\n",
        "  \"oughtn't\": \"ought not\",\n",
        "  \"oughtn't've\": \"ought not have\",\n",
        "  \"shan't\": \"shall not\",\n",
        "  \"sha'n't\": \"shall not\",\n",
        "  \"shan't've\": \"shall not have\",\n",
        "  \"she'd\": \"she would\",\n",
        "  \"she'd've\": \"she would have\",\n",
        "  \"she'll\": \"she will\",\n",
        "  \"she'll've\": \"she will have\",\n",
        "  \"she's\": \"she is\",\n",
        "  \"should've\": \"should have\",\n",
        "  \"shouldn't\": \"should not\",\n",
        "  \"shouldn't've\": \"should not have\",\n",
        "  \"so've\": \"so have\",\n",
        "  \"so's\": \"so is\",\n",
        "  \"that'd\": \"that would\",\n",
        "  \"that'd've\": \"that would have\",\n",
        "  \"that's\": \"that is\",\n",
        "  \"there'd\": \"there had\",\n",
        "  \"there'd've\": \"there would have\",\n",
        "  \"there's\": \"there is\",\n",
        "  \"they'd\": \"they would\",\n",
        "  \"they'd've\": \"they would have\",\n",
        "  \"they'll\": \"they will\",\n",
        "  \"they'll've\": \"they will have\",\n",
        "  \"they're\": \"they are\",\n",
        "  \"they've\": \"they have\",\n",
        "  \"to've\": \"to have\",\n",
        "  \"wasn't\": \"was not\",\n",
        "  \"we'd\": \"we had\",\n",
        "  \"we'd've\": \"we would have\",\n",
        "  \"we'll\": \"we will\",\n",
        "  \"we'll've\": \"we will have\",\n",
        "  \"we're\": \"we are\",\n",
        "  \"we've\": \"we have\",\n",
        "  \"weren't\": \"were not\",\n",
        "  \"what'll\": \"what will\",\n",
        "  \"what'll've\": \"what will have\",\n",
        "  \"what're\": \"what are\",\n",
        "  \"what's\": \"what is\",\n",
        "  \"what've\": \"what have\",\n",
        "  \"when's\": \"when is\",\n",
        "  \"when've\": \"when have\",\n",
        "  \"where'd\": \"where did\",\n",
        "  \"where's\": \"where is\",\n",
        "  \"where've\": \"where have\",\n",
        "  \"who'll\": \"who will\",\n",
        "  \"who'll've\": \"who will have\",\n",
        "  \"who's\": \"who is\",\n",
        "  \"who've\": \"who have\",\n",
        "  \"why's\": \"why is\",\n",
        "  \"why've\": \"why have\",\n",
        "  \"will've\": \"will have\",\n",
        "  \"won't\": \"will not\",\n",
        "  \"won't've\": \"will not have\",\n",
        "  \"would've\": \"would have\",\n",
        "  \"wouldn't\": \"would not\",\n",
        "  \"wouldn't've\": \"would not have\",\n",
        "  \"y'all\": \"you all\",\n",
        "  \"y'alls\": \"you alls\",\n",
        "  \"y'all'd\": \"you all would\",\n",
        "  \"y'all'd've\": \"you all would have\",\n",
        "  \"y'all're\": \"you all are\",\n",
        "  \"y'all've\": \"you all have\",\n",
        "  \"you'd\": \"you had\",\n",
        "  \"you'd've\": \"you would have\",\n",
        "  \"you'll\": \"you you will\",\n",
        "  \"you'll've\": \"you you will have\",\n",
        "  \"you're\": \"you are\",\n",
        "  \"you've\": \"you have\"\n",
        "}\n",
        "\n",
        "c_re = re.compile('(%s)' % '|'.join(cList.keys()))\n",
        "\n",
        "def expandContractions(text, c_re=c_re):\n",
        "    def replace(match):\n",
        "        return cList[match.group(0)]\n",
        "    return c_re.sub(replace, text)"
      ],
      "execution_count": 24,
      "outputs": []
    },
    {
      "cell_type": "code",
      "metadata": {
        "id": "-D65RjE8Z1gs",
        "colab_type": "code",
        "colab": {}
      },
      "source": [
        "def clean_tweets(tweets):\n",
        "    cleaned_tweets = []\n",
        "    for tweet in tweets:\n",
        "        tweet = str(tweet)\n",
        "        # if url links then dont append to avoid news articles\n",
        "        # also check tweet length, save those > 10 (length of word \"depression\")\n",
        "        if re.match(\"(\\w+:\\/\\/\\S+)\", tweet) == None and len(tweet) > 10:\n",
        "            #remove hashtag, @mention, emoji and image URLs\n",
        "            tweet = ' '.join(re.sub(\"(@[A-Za-z0-9]+)|(\\#[A-Za-z0-9]+)|(<Emoji:.*>)|(pic\\.twitter\\.com\\/.*)\", \" \", tweet).split())\n",
        "            \n",
        "            #fix weirdly encoded texts\n",
        "            tweet = ftfy.fix_text(tweet)\n",
        "            \n",
        "            #expand contraction\n",
        "            tweet = expandContractions(tweet)\n",
        "\n",
        "            #remove punctuation\n",
        "            tweet = ' '.join(re.sub(\"([^0-9A-Za-z \\t])\", \" \", tweet).split())\n",
        "\n",
        "            #stop words\n",
        "            stop_words = set(stopwords.words('english'))\n",
        "            word_tokens = nltk.word_tokenize(tweet) \n",
        "            filtered_sentence = [w for w in word_tokens if not w in stop_words]\n",
        "            tweet = ' '.join(filtered_sentence)\n",
        "\n",
        "            #stemming words\n",
        "            tweet = PorterStemmer().stem(tweet)\n",
        "            \n",
        "            cleaned_tweets.append(tweet)\n",
        "\n",
        "    return cleaned_tweets"
      ],
      "execution_count": 25,
      "outputs": []
    },
    {
      "cell_type": "markdown",
      "metadata": {
        "id": "GvsmD4i2apZF",
        "colab_type": "text"
      },
      "source": [
        "Applying the preprocessing `clean_text` function to every element in the depressive tweets and random tweets data."
      ]
    },
    {
      "cell_type": "code",
      "metadata": {
        "id": "swvX0BNRajLj",
        "colab_type": "code",
        "colab": {}
      },
      "source": [
        "depressive_tweets_arr = [x for x in depressive_tweets_df['tweet']]\n",
        "random_tweets_arr = [x for x in random_tweets_df['SentimentText']]\n",
        "X_d = clean_tweets(depressive_tweets_arr)\n",
        "X_r = clean_tweets(random_tweets_arr)"
      ],
      "execution_count": 37,
      "outputs": []
    },
    {
      "cell_type": "code",
      "metadata": {
        "id": "llYnrYG4a1tn",
        "colab_type": "code",
        "colab": {
          "base_uri": "https://localhost:8080/",
          "height": 104
        },
        "outputId": "a5fa908e-ea40-4312-fcc3-6882b451a24d"
      },
      "source": [
        "import nltk\n",
        "# nltk.download('stopwords')\n",
        "# nltk.download('punkt')"
      ],
      "execution_count": 27,
      "outputs": [
        {
          "output_type": "stream",
          "text": [
            "[nltk_data] Downloading package stopwords to /root/nltk_data...\n",
            "[nltk_data]   Unzipping corpora/stopwords.zip.\n",
            "[nltk_data] Downloading package punkt to /root/nltk_data...\n",
            "[nltk_data]   Unzipping tokenizers/punkt.zip.\n"
          ],
          "name": "stdout"
        },
        {
          "output_type": "execute_result",
          "data": {
            "text/plain": [
              "True"
            ]
          },
          "metadata": {
            "tags": []
          },
          "execution_count": 27
        }
      ]
    },
    {
      "cell_type": "markdown",
      "metadata": {
        "id": "rclRRtlSnlK9",
        "colab_type": "text"
      },
      "source": [
        "### Tokenizer\n",
        "\n",
        "Using a Tokenizer to assign indices and filtering out unfrequent words. Tokenizer creates a map of every unique word and an assigned index to it. The parameter called num_words indicates that we only care about the top 20000 most frequent words."
      ]
    },
    {
      "cell_type": "code",
      "metadata": {
        "id": "LeMF5nGKnW9K",
        "colab_type": "code",
        "colab": {}
      },
      "source": [
        "tokenizer = Tokenizer(num_words=MAX_NB_WORDS)\n",
        "tokenizer.fit_on_texts(X_d + X_r)"
      ],
      "execution_count": 38,
      "outputs": []
    },
    {
      "cell_type": "markdown",
      "metadata": {
        "id": "ggParvvOnr6b",
        "colab_type": "text"
      },
      "source": [
        "Applying the tokenizer to depressive tweets and random tweets data."
      ]
    },
    {
      "cell_type": "code",
      "metadata": {
        "id": "urr1iiNfnopw",
        "colab_type": "code",
        "colab": {}
      },
      "source": [
        "sequences_d = tokenizer.texts_to_sequences(X_d)\n",
        "sequences_r = tokenizer.texts_to_sequences(X_r)"
      ],
      "execution_count": 39,
      "outputs": []
    },
    {
      "cell_type": "markdown",
      "metadata": {
        "id": "1ySw1LTrnxoB",
        "colab_type": "text"
      },
      "source": [
        "Number of unique words in tokenizer. Has to be <= 20,000."
      ]
    },
    {
      "cell_type": "code",
      "metadata": {
        "id": "cFnIBP-MnvPY",
        "colab_type": "code",
        "colab": {
          "base_uri": "https://localhost:8080/",
          "height": 34
        },
        "outputId": "6334f553-563e-4b1c-f586-7b1c229f824b"
      },
      "source": [
        "word_index = tokenizer.word_index\n",
        "print('Found %s unique tokens' % len(word_index))"
      ],
      "execution_count": 40,
      "outputs": [
        {
          "output_type": "stream",
          "text": [
            "Found 27768 unique tokens\n"
          ],
          "name": "stdout"
        }
      ]
    },
    {
      "cell_type": "markdown",
      "metadata": {
        "id": "ZZPCvMMMn9Bu",
        "colab_type": "text"
      },
      "source": [
        "Pad sequences all to the same length of 140 words."
      ]
    },
    {
      "cell_type": "code",
      "metadata": {
        "id": "WE5P8b3Xn1Hd",
        "colab_type": "code",
        "colab": {
          "base_uri": "https://localhost:8080/",
          "height": 52
        },
        "outputId": "d27a6857-6158-4f48-cf25-04badc7d356b"
      },
      "source": [
        "data_d = pad_sequences(sequences_d, maxlen=MAX_SEQUENCE_LENGTH)\n",
        "data_r = pad_sequences(sequences_r, maxlen=MAX_SEQUENCE_LENGTH)\n",
        "print('Shape of data_d tensor:', data_d.shape)\n",
        "print('Shape of data_r tensor:', data_r.shape)"
      ],
      "execution_count": 41,
      "outputs": [
        {
          "output_type": "stream",
          "text": [
            "Shape of data_d tensor: (5957, 140)\n",
            "Shape of data_r tensor: (9914, 140)\n"
          ],
          "name": "stdout"
        }
      ]
    },
    {
      "cell_type": "markdown",
      "metadata": {
        "id": "4l52DBAHokJ9",
        "colab_type": "text"
      },
      "source": [
        "### Embedding Matrix\n",
        "\n",
        "The embedding matrix is a `n x m` matrix where `n` is the number of words and `m` is the dimension of the embedding. In this case, `m=300` and `n=20000`. We take the min between the number of unique words in our tokenizer and max words in case there are less unique words than the max we specified."
      ]
    },
    {
      "cell_type": "code",
      "metadata": {
        "id": "71kwjceun8b9",
        "colab_type": "code",
        "colab": {}
      },
      "source": [
        "nb_words = min(MAX_NB_WORDS, len(word_index))\n",
        "\n",
        "embedding_matrix = np.zeros((nb_words, EMBEDDING_DIM))\n",
        "\n",
        "for (word, idx) in word_index.items():\n",
        "    if word in word2vec.vocab and idx < MAX_NB_WORDS:\n",
        "        embedding_matrix[idx] = word2vec.word_vec(word)"
      ],
      "execution_count": 42,
      "outputs": []
    },
    {
      "cell_type": "markdown",
      "metadata": {
        "id": "SzQ6n7hyovQT",
        "colab_type": "text"
      },
      "source": [
        "### Splitting and Formatting Data\n",
        "\n",
        "Assigning labels to the depressive tweets and random tweets data, and splitting the arrays into test (60%), validation (20%), and train data (20%). Combine depressive tweets and random tweets arrays and shuffle."
      ]
    },
    {
      "cell_type": "code",
      "metadata": {
        "id": "GNxPGkiOopOT",
        "colab_type": "code",
        "colab": {}
      },
      "source": [
        "# Assigning labels to the depressive tweets and random tweets data\n",
        "labels_d = np.array([1] * DEPRES_NROWS)\n",
        "labels_r = np.array([0] * RANDOM_NROWS)\n",
        "\n",
        "# Splitting the arrays into test (60%), validation (20%), and train data (20%)\n",
        "perm_d = np.random.permutation(len(data_d))\n",
        "idx_train_d = perm_d[:int(len(data_d)*(TRAIN_SPLIT))]\n",
        "idx_test_d = perm_d[int(len(data_d)*(TRAIN_SPLIT)):int(len(data_d)*(TRAIN_SPLIT+TEST_SPLIT))]\n",
        "idx_val_d = perm_d[int(len(data_d)*(TRAIN_SPLIT+TEST_SPLIT)):]\n",
        "\n",
        "perm_r = np.random.permutation(len(data_r))\n",
        "idx_train_r = perm_r[:int(len(data_r)*(TRAIN_SPLIT))]\n",
        "idx_test_r = perm_r[int(len(data_r)*(TRAIN_SPLIT)):int(len(data_r)*(TRAIN_SPLIT+TEST_SPLIT))]\n",
        "idx_val_r = perm_r[int(len(data_r)*(TRAIN_SPLIT+TEST_SPLIT)):]\n",
        "\n",
        "# Combine depressive tweets and random tweets arrays\n",
        "data_train = np.concatenate((data_d[idx_train_d], data_r[idx_train_r]))\n",
        "labels_train = np.concatenate((labels_d[idx_train_d], labels_r[idx_train_r]))\n",
        "data_test = np.concatenate((data_d[idx_test_d], data_r[idx_test_r]))\n",
        "labels_test = np.concatenate((labels_d[idx_test_d], labels_r[idx_test_r]))\n",
        "data_val = np.concatenate((data_d[idx_val_d], data_r[idx_val_r]))\n",
        "labels_val = np.concatenate((labels_d[idx_val_d], labels_r[idx_val_r]))\n",
        "\n",
        "# Shuffling\n",
        "perm_train = np.random.permutation(len(data_train))\n",
        "data_train = data_train[perm_train]\n",
        "labels_train = labels_train[perm_train]\n",
        "perm_test = np.random.permutation(len(data_test))\n",
        "data_test = data_test[perm_test]\n",
        "labels_test = labels_test[perm_test]\n",
        "perm_val = np.random.permutation(len(data_val))\n",
        "data_val = data_val[perm_val]\n",
        "labels_val = labels_val[perm_val]"
      ],
      "execution_count": 43,
      "outputs": []
    },
    {
      "cell_type": "markdown",
      "metadata": {
        "id": "nscTEkWVo3aE",
        "colab_type": "text"
      },
      "source": [
        "## Section 3: Building the Model\n",
        "\n",
        "### Building Model (LSTM + CNN)\n",
        "\n",
        "The model takes in an input and then outputs a single number representing the probability that the tweet indicates depression. The model takes in each input sentence, replace it with it's embeddings, then run the new embedding vector through a convolutional layer. CNNs are excellent at learning spatial structure from data, the convolutional layer takes advantage of that and learn some structure from the sequential data then pass into a standard LSTM layer. Last but not least, the output of the LSTM layer is fed into a standard Dense model for prediction."
      ]
    },
    {
      "cell_type": "code",
      "metadata": {
        "id": "UWElV6_8o0cG",
        "colab_type": "code",
        "colab": {}
      },
      "source": [
        "model = Sequential()\n",
        "# Embedded layer\n",
        "model.add(Embedding(len(embedding_matrix), EMBEDDING_DIM, weights=[embedding_matrix], \n",
        "                            input_length=MAX_SEQUENCE_LENGTH, trainable=False))\n",
        "# Convolutional Layer\n",
        "model.add(Conv1D(filters=32, kernel_size=3, padding='same', activation='relu'))\n",
        "model.add(MaxPooling1D(pool_size=2))\n",
        "model.add(Dropout(0.2))\n",
        "# LSTM Layer\n",
        "model.add(LSTM(300))\n",
        "model.add(Dropout(0.2))\n",
        "model.add(Dense(1, activation='sigmoid'))"
      ],
      "execution_count": 44,
      "outputs": []
    },
    {
      "cell_type": "markdown",
      "metadata": {
        "id": "_2OOXsp0ph73",
        "colab_type": "text"
      },
      "source": [
        "### Compiling Model"
      ]
    },
    {
      "cell_type": "code",
      "metadata": {
        "id": "ekmUm3uyo-S7",
        "colab_type": "code",
        "colab": {
          "base_uri": "https://localhost:8080/",
          "height": 416
        },
        "outputId": "10d80335-1545-472b-f162-ea0202ec9ec5"
      },
      "source": [
        "model.compile(loss='binary_crossentropy', optimizer='nadam', metrics=['acc'])\n",
        "print(model.summary())"
      ],
      "execution_count": 45,
      "outputs": [
        {
          "output_type": "stream",
          "text": [
            "Model: \"sequential\"\n",
            "_________________________________________________________________\n",
            "Layer (type)                 Output Shape              Param #   \n",
            "=================================================================\n",
            "embedding (Embedding)        (None, 140, 300)          6000000   \n",
            "_________________________________________________________________\n",
            "conv1d (Conv1D)              (None, 140, 32)           28832     \n",
            "_________________________________________________________________\n",
            "max_pooling1d (MaxPooling1D) (None, 70, 32)            0         \n",
            "_________________________________________________________________\n",
            "dropout (Dropout)            (None, 70, 32)            0         \n",
            "_________________________________________________________________\n",
            "lstm (LSTM)                  (None, 300)               399600    \n",
            "_________________________________________________________________\n",
            "dropout_1 (Dropout)          (None, 300)               0         \n",
            "_________________________________________________________________\n",
            "dense (Dense)                (None, 1)                 301       \n",
            "=================================================================\n",
            "Total params: 6,428,733\n",
            "Trainable params: 428,733\n",
            "Non-trainable params: 6,000,000\n",
            "_________________________________________________________________\n",
            "None\n"
          ],
          "name": "stdout"
        }
      ]
    },
    {
      "cell_type": "markdown",
      "metadata": {
        "id": "pEak0rldprTU",
        "colab_type": "text"
      },
      "source": [
        "## Section 4: Training the Model\n",
        "\n",
        "The model is trained `EPOCHS` time, and Early Stopping argument is used to end training if the loss or accuracy don't improve within 3 epochs."
      ]
    },
    {
      "cell_type": "code",
      "metadata": {
        "id": "xyDHt7JHpk1v",
        "colab_type": "code",
        "colab": {
          "base_uri": "https://localhost:8080/",
          "height": 245
        },
        "outputId": "67d506db-a984-4e4e-f6ca-e4df78da5de7"
      },
      "source": [
        "early_stop = EarlyStopping(monitor='val_loss', patience=3)\n",
        "\n",
        "hist = model.fit(data_train, labels_train, \\\n",
        "        validation_data=(data_val, labels_val), \\\n",
        "        epochs=EPOCHS, batch_size=40, shuffle=True, \\\n",
        "        callbacks=[early_stop])"
      ],
      "execution_count": 46,
      "outputs": [
        {
          "output_type": "stream",
          "text": [
            "Epoch 1/10\n",
            "239/239 [==============================] - 78s 325ms/step - loss: 0.1215 - acc: 0.9594 - val_loss: 0.0564 - val_acc: 0.9868\n",
            "Epoch 2/10\n",
            "239/239 [==============================] - 78s 326ms/step - loss: 0.0465 - acc: 0.9886 - val_loss: 0.0522 - val_acc: 0.9874\n",
            "Epoch 3/10\n",
            "239/239 [==============================] - 78s 324ms/step - loss: 0.0388 - acc: 0.9899 - val_loss: 0.0521 - val_acc: 0.9868\n",
            "Epoch 4/10\n",
            "239/239 [==============================] - 79s 331ms/step - loss: 0.0358 - acc: 0.9901 - val_loss: 0.0530 - val_acc: 0.9877\n",
            "Epoch 5/10\n",
            "239/239 [==============================] - 78s 325ms/step - loss: 0.0297 - acc: 0.9905 - val_loss: 0.0538 - val_acc: 0.9874\n",
            "Epoch 6/10\n",
            "239/239 [==============================] - 78s 327ms/step - loss: 0.0253 - acc: 0.9921 - val_loss: 0.0615 - val_acc: 0.9877\n"
          ],
          "name": "stdout"
        }
      ]
    },
    {
      "cell_type": "markdown",
      "metadata": {
        "id": "9BKfE-cpqcsP",
        "colab_type": "text"
      },
      "source": [
        "### Results\n",
        "\n",
        "Summarize history for accuracy"
      ]
    },
    {
      "cell_type": "code",
      "metadata": {
        "id": "mlBugcVMpwc0",
        "colab_type": "code",
        "colab": {
          "base_uri": "https://localhost:8080/",
          "height": 295
        },
        "outputId": "87ca59d3-4fad-44a4-9e41-c30e7a6be3ca"
      },
      "source": [
        "plt.plot(hist.history['acc'])\n",
        "plt.plot(hist.history['val_acc'])\n",
        "plt.title('model accuracy')\n",
        "plt.ylabel('accuracy')\n",
        "plt.xlabel('epoch')\n",
        "plt.legend(['train', 'validation'], loc='upper left')\n",
        "plt.show()"
      ],
      "execution_count": 49,
      "outputs": [
        {
          "output_type": "display_data",
          "data": {
            "image/png": "[encoded data removed]",
            "text/plain": [
              "<Figure size 432x288 with 1 Axes>"
            ]
          },
          "metadata": {
            "tags": [],
            "needs_background": "light"
          }
        }
      ]
    },
    {
      "cell_type": "markdown",
      "metadata": {
        "id": "aDQ648rvqq4O",
        "colab_type": "text"
      },
      "source": [
        "Summarize history for loss"
      ]
    },
    {
      "cell_type": "code",
      "metadata": {
        "id": "4SmHKXGeqqnA",
        "colab_type": "code",
        "colab": {
          "base_uri": "https://localhost:8080/",
          "height": 295
        },
        "outputId": "421b6112-f7c3-4ba4-b92c-1e24485f4f04"
      },
      "source": [
        "plt.plot(hist.history['loss'])\n",
        "plt.plot(hist.history['val_loss'])\n",
        "plt.title('model loss')\n",
        "plt.ylabel('loss')\n",
        "plt.xlabel('epoch')\n",
        "plt.legend(['train', 'test'], loc='upper left')\n",
        "plt.show()"
      ],
      "execution_count": 50,
      "outputs": [
        {
          "output_type": "display_data",
          "data": {
            "image/png": "[encoded data removed]",
            "text/plain": [
              "<Figure size 432x288 with 1 Axes>"
            ]
          },
          "metadata": {
            "tags": [],
            "needs_background": "light"
          }
        }
      ]
    },
    {
      "cell_type": "markdown",
      "metadata": {
        "id": "1LNaQR-YqzLJ",
        "colab_type": "text"
      },
      "source": [
        "Percentage accuracy of the model"
      ]
    },
    {
      "cell_type": "code",
      "metadata": {
        "id": "njR4FxugqyTQ",
        "colab_type": "code",
        "colab": {
          "base_uri": "https://localhost:8080/",
          "height": 34
        },
        "outputId": "70dcb649-4928-47b4-cdc2-60052fc66c4e"
      },
      "source": [
        "labels_pred = model.predict(data_test)\n",
        "labels_pred = np.round(labels_pred.flatten())\n",
        "accuracy = accuracy_score(labels_test, labels_pred)\n",
        "print(\"Accuracy: %.2f%%\" % (accuracy*100))"
      ],
      "execution_count": 51,
      "outputs": [
        {
          "output_type": "stream",
          "text": [
            "Accuracy: 98.77%\n"
          ],
          "name": "stdout"
        }
      ]
    },
    {
      "cell_type": "markdown",
      "metadata": {
        "id": "IsKY4WzQq3vQ",
        "colab_type": "text"
      },
      "source": [
        "f1, precision, and recall scores"
      ]
    },
    {
      "cell_type": "code",
      "metadata": {
        "id": "EXyjSLmGq4KZ",
        "colab_type": "code",
        "colab": {
          "base_uri": "https://localhost:8080/",
          "height": 173
        },
        "outputId": "7504009b-11e2-48a8-f153-b44690a10a2f"
      },
      "source": [
        "print(classification_report(labels_test, labels_pred))"
      ],
      "execution_count": 52,
      "outputs": [
        {
          "output_type": "stream",
          "text": [
            "              precision    recall  f1-score   support\n",
            "\n",
            "           0       0.98      1.00      0.99      1983\n",
            "           1       1.00      0.97      0.98      1191\n",
            "\n",
            "    accuracy                           0.99      3174\n",
            "   macro avg       0.99      0.98      0.99      3174\n",
            "weighted avg       0.99      0.99      0.99      3174\n",
            "\n"
          ],
          "name": "stdout"
        }
      ]
    },
    {
      "cell_type": "markdown",
      "metadata": {
        "id": "mp_bA31Lq9Ux",
        "colab_type": "text"
      },
      "source": [
        "## Section 5: Comparing the Model to Base Line\n",
        "\n",
        "In order to evaluate the effectiveness of the LSTM + CNN model, a logistic regression model is trained with the same train data and the same number of epochs, and tested with the same test data."
      ]
    },
    {
      "cell_type": "markdown",
      "metadata": {
        "id": "UI4g0khprAOk",
        "colab_type": "text"
      },
      "source": [
        "### Logistic Regression Base Line Model"
      ]
    },
    {
      "cell_type": "code",
      "metadata": {
        "id": "8hcQc1B6q91w",
        "colab_type": "code",
        "colab": {}
      },
      "source": [
        "class LogReg:\n",
        "    \"\"\"\n",
        "    Class to represent a logistic regression model.\n",
        "    \"\"\"\n",
        "\n",
        "    def __init__(self, l_rate, epochs, n_features):\n",
        "        \"\"\"\n",
        "        Create a new model with certain parameters.\n",
        "\n",
        "        :param l_rate: Initial learning rate for model.\n",
        "        :param epoch: Number of epochs to train for.\n",
        "        :param n_features: Number of features.\n",
        "        \"\"\"\n",
        "        self.l_rate = l_rate\n",
        "        self.epochs = epochs\n",
        "        self.coef = [0.0] * n_features\n",
        "        self.bias = 0.0\n",
        "\n",
        "    def sigmoid(self, score, threshold=20.0):\n",
        "        \"\"\"\n",
        "        Prevent overflow of exp by capping activation at 20.\n",
        "\n",
        "        :param score: A real valued number to convert into a number between 0 and 1\n",
        "        \"\"\"\n",
        "        if abs(score) > threshold:\n",
        "            score = threshold * sign(score)\n",
        "        activation = exp(score)\n",
        "        return activation / (1.0 + activation)\n",
        "\n",
        "    def predict(self, features):\n",
        "        \"\"\"\n",
        "        Given an example's features and the coefficients, predicts the class.\n",
        "\n",
        "        :param features: List of real valued features for a single training example.\n",
        "\n",
        "        :return: Returns the predicted class (either 0 or 1).\n",
        "        \"\"\"\n",
        "        value = sum([features[i]*self.coef[i] for i in range(len(features))]) + self.bias\n",
        "        return self.sigmoid(value)\n",
        "\n",
        "    def sg_update(self, features, label):\n",
        "        \"\"\"\n",
        "        Computes the update to the weights based on a predicted example.\n",
        "\n",
        "        :param features: Features to train on.\n",
        "        :param label: Corresponding label for features.\n",
        "        \"\"\"\n",
        "        yhat = self.predict(features)\n",
        "        e = label - yhat\n",
        "        self.bias = self.bias + self.l_rate * e * yhat * (1-yhat)\n",
        "        for i in range(len(features)):\n",
        "            self.coef[i] = self.coef[i] + self.l_rate * e * yhat * (1-yhat) * features[i]\n",
        "        return\n",
        "\n",
        "    def train(self, X, y):\n",
        "        \"\"\"\n",
        "        Computes logistic regression coefficients using stochastic gradient descent.\n",
        "\n",
        "        :param X: Features to train on.\n",
        "        :param y: Corresponding label for each set of features.\n",
        "\n",
        "        :return: Returns a list of model weight coefficients where coef[0] is the bias.\n",
        "        \"\"\"\n",
        "        for epoch in range(self.epochs):\n",
        "            for features, label in zip(X, y):\n",
        "                self.sg_update(features, label)\n",
        "        return self.bias, self.coef "
      ],
      "execution_count": 47,
      "outputs": []
    },
    {
      "cell_type": "code",
      "metadata": {
        "id": "hRJGznTzrII1",
        "colab_type": "code",
        "colab": {}
      },
      "source": [
        "def get_accuracy(y_bar, y_pred):\n",
        "    \"\"\"\n",
        "    Computes what percent of the total testing data the model classified correctly.\n",
        "\n",
        "    :param y_bar: List of ground truth classes for each example.\n",
        "    :param y_pred: List of model predicted class for each example.\n",
        "\n",
        "    :return: Returns a real number between 0 and 1 for the model accuracy.\n",
        "    \"\"\"\n",
        "    correct = 0\n",
        "    for i in range(len(y_bar)):\n",
        "        if y_bar[i] == y_pred[i]:\n",
        "            correct += 1\n",
        "    accuracy = (correct / len(y_bar)) * 100.0\n",
        "    return accuracy"
      ],
      "execution_count": 48,
      "outputs": []
    },
    {
      "cell_type": "markdown",
      "metadata": {
        "id": "n_nXozx_sHDk",
        "colab_type": "text"
      },
      "source": [
        "Training the logistic regression model"
      ]
    },
    {
      "cell_type": "code",
      "metadata": {
        "id": "aYhQ1LcCrMig",
        "colab_type": "code",
        "colab": {}
      },
      "source": [
        "# Logistic Model\n",
        "logreg = LogReg(LEARNING_RATE, EPOCHS, len(data_train[0]))\n",
        "bias_logreg, weights_logreg = logreg.train(data_train, labels_train)\n",
        "y_logistic = [round(logreg.predict(example)) for example in data_test]"
      ],
      "execution_count": 53,
      "outputs": []
    },
    {
      "cell_type": "markdown",
      "metadata": {
        "id": "xCNUi4x0sKWA",
        "colab_type": "text"
      },
      "source": [
        "Getting the accuracy of the logistic regression model predicting the test data"
      ]
    },
    {
      "cell_type": "code",
      "metadata": {
        "id": "XtPhZZW3sCXm",
        "colab_type": "code",
        "colab": {
          "base_uri": "https://localhost:8080/",
          "height": 34
        },
        "outputId": "915d4ccc-6968-4102-eb50-630120484995"
      },
      "source": [
        "# Compare accuracies\n",
        "accuracy_logistic = get_accuracy(y_logistic, labels_test)\n",
        "print('Logistic Regression Accuracy: {:0.3f}'.format(accuracy_logistic))"
      ],
      "execution_count": 54,
      "outputs": [
        {
          "output_type": "stream",
          "text": [
            "Logistic Regression Accuracy: 62.476\n"
          ],
          "name": "stdout"
        }
      ]
    },
    {
      "cell_type": "code",
      "metadata": {
        "id": "LrBuhLNMsEiE",
        "colab_type": "code",
        "colab": {}
      },
      "source": [
        ""
      ],
      "execution_count": null,
      "outputs": []
    }
  ]
}